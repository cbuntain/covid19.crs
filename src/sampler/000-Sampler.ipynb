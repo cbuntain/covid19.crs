{
 "cells": [
  {
   "cell_type": "markdown",
   "metadata": {},
   "source": [
    "# Account-Level Sampler\n",
    "\n",
    "__Author__: Cody Buntain\n",
    "\n",
    "__Date__: 18 August 2020\n",
    "\n",
    "__Purpose__: This notebook will extract a sample of messages from each account in a given dataset's CSV file.\n",
    "\n",
    "__Input__: A CSV file containing posts and accounts, a percentage of messages to pull from each account, and a date range in which we should look.\n",
    "\n",
    "__Output__: A new CSV file with the sampled data."
   ]
  },
  {
   "cell_type": "code",
   "execution_count": 1,
   "metadata": {},
   "outputs": [],
   "source": [
    "import datetime\n",
    "import pytz\n",
    "import pandas as pd"
   ]
  },
  {
   "cell_type": "code",
   "execution_count": null,
   "metadata": {},
   "outputs": [],
   "source": []
  },
  {
   "cell_type": "code",
   "execution_count": 2,
   "metadata": {},
   "outputs": [],
   "source": [
    "sample_ratio = 0.3\n",
    "date_start = datetime.datetime(month=3, day=11, year=2020, tzinfo=pytz.UTC)\n",
    "date_end = datetime.datetime(month=5, day=20, year=2020, tzinfo=pytz.UTC)"
   ]
  },
  {
   "cell_type": "code",
   "execution_count": null,
   "metadata": {},
   "outputs": [],
   "source": []
  },
  {
   "cell_type": "code",
   "execution_count": 3,
   "metadata": {},
   "outputs": [],
   "source": [
    "df = pd.read_csv(\n",
    "    \"all_structure_posts.csv\", \n",
    "    dtype={\"PlatformPostID\": str},\n",
    "    parse_dates=[\"TimestampPosted\"]\n",
    ")"
   ]
  },
  {
   "cell_type": "code",
   "execution_count": 4,
   "metadata": {},
   "outputs": [],
   "source": [
    "# Make sure we have a timezone across all data\n",
    "#. Necessary because of differences in FB's and Twitter's timestamp formats\n",
    "def apply_tz(ts):\n",
    "    if ts.tzinfo is None:\n",
    "        ts = pytz.UTC.localize(ts)\n",
    "    return ts\n",
    "\n",
    "dt = df[\"TimestampPosted\"]\n",
    "df[\"TimestampPosted\"] = dt.apply(apply_tz)\n"
   ]
  },
  {
   "cell_type": "code",
   "execution_count": 5,
   "metadata": {},
   "outputs": [],
   "source": [
    "relevant_df = df[(df[\"TimestampPosted\"] >= date_start) & (df[\"TimestampPosted\"] <= date_end)]"
   ]
  },
  {
   "cell_type": "code",
   "execution_count": null,
   "metadata": {},
   "outputs": [],
   "source": []
  },
  {
   "cell_type": "code",
   "execution_count": 6,
   "metadata": {},
   "outputs": [],
   "source": [
    "def sample_platform(this_df, sample_rate):\n",
    "    sampled_frames = []\n",
    "    for account, group_df in this_df.groupby(\"AccountPlatformId\"):\n",
    "        sampled_frames.append(group_df.sample(frac=sample_ratio, replace=False))\n",
    "    return pd.concat(sampled_frames)\n",
    "\n",
    "relevant_df_fb = relevant_df[relevant_df[\"Platform\"] == \"Facebook\"]\n",
    "\n",
    "# We only care about tweets, not retweets or replies\n",
    "relevant_df_tw = relevant_df[relevant_df[\"Platform\"] == \"Twitter\"]\n",
    "relevant_df_tw = relevant_df_tw[relevant_df_tw[\"PostType\"] == \"tweet\"]\n",
    "\n",
    "relevant_sample_df_fb = sample_platform(relevant_df_fb, sample_ratio)\n",
    "relevant_sample_df_tw = sample_platform(relevant_df_tw, sample_ratio)\n"
   ]
  },
  {
   "cell_type": "code",
   "execution_count": 7,
   "metadata": {},
   "outputs": [],
   "source": [
    "sampled_df = pd.concat([relevant_sample_df_fb, relevant_sample_df_tw])\n",
    "sampled_df.to_csv(\"sampled_structure_posts.csv\", index=False)"
   ]
  },
  {
   "cell_type": "code",
   "execution_count": null,
   "metadata": {},
   "outputs": [],
   "source": []
  },
  {
   "cell_type": "markdown",
   "metadata": {},
   "source": [
    "## Diagnostics\n",
    "\n",
    "Check to make sure we hit the sample rate for each group."
   ]
  },
  {
   "cell_type": "code",
   "execution_count": 8,
   "metadata": {
    "scrolled": false
   },
   "outputs": [
    {
     "name": "stdout",
     "output_type": "stream",
     "text": [
      "Facebook\n",
      "3312 vs 992 0.2995169082125604\n",
      "EsteeLauder 1 4 0.25\n",
      "Honeywell 2 5 0.4\n",
      "MichelinUSA 2 5 0.4\n",
      "RalphLauren 1 4 0.25\n",
      "SamsungUS 1 2 0.5\n",
      "VisaUnitedStates 1 2 0.5\n",
      "britishairways 2 8 0.25\n",
      "campbells 2 8 0.25\n",
      "cathaypacific 0 1 0.0\n",
      "--------------------\n",
      "Twitter\n",
      "6514 vs 1957 0.3004298434141848\n",
      "InterConHotels 1 2 0.5\n",
      "Nike 1 4 0.25\n",
      "Tesla 2 5 0.4\n",
      "Visa 1 2 0.5\n",
      "adidasUS 1 4 0.25\n",
      "--------------------\n"
     ]
    }
   ],
   "source": [
    "for platform in [\"Facebook\", \"Twitter\"]:\n",
    "    print(platform)\n",
    "    \n",
    "    this_full_df = relevant_df[relevant_df[\"Platform\"] == platform]\n",
    "    \n",
    "    # Special filtering for tweet post types\n",
    "    if platform == \"Twitter\":\n",
    "        this_full_df = this_full_df[this_full_df[\"PostType\"] == \"tweet\"]\n",
    "    \n",
    "    this_samp_df = sampled_df[sampled_df[\"Platform\"] == platform]\n",
    "    \n",
    "    # Calculate the overall ratio\n",
    "    ratio = this_samp_df.shape[0] / this_full_df.shape[0]\n",
    "    print(this_full_df.shape[0], \"vs\", this_samp_df.shape[0], ratio)\n",
    "    \n",
    "    # For each account, check to make sure we get ~sample_ratio tweets\n",
    "    for account, group in this_full_df.groupby(\"AccountPlatformId\"):\n",
    "        sampled_count = this_samp_df[this_samp_df[\"AccountPlatformId\"] == account].shape[0]\n",
    "        account_ratio = sampled_count / group.shape[0]\n",
    "        \n",
    "        if account_ratio <= sample_ratio - 0.05 or account_ratio >= sample_ratio + 0.05:\n",
    "            print(account, sampled_count, group.shape[0], sampled_count / group.shape[0])\n",
    "\n",
    "    print(\"-\" * 20)"
   ]
  },
  {
   "cell_type": "code",
   "execution_count": null,
   "metadata": {},
   "outputs": [],
   "source": []
  }
 ],
 "metadata": {
  "kernelspec": {
   "display_name": "Python 3",
   "language": "python",
   "name": "python3"
  },
  "language_info": {
   "codemirror_mode": {
    "name": "ipython",
    "version": 3
   },
   "file_extension": ".py",
   "mimetype": "text/x-python",
   "name": "python",
   "nbconvert_exporter": "python",
   "pygments_lexer": "ipython3",
   "version": "3.7.0"
  }
 },
 "nbformat": 4,
 "nbformat_minor": 2
}
